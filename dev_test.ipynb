{
 "cells": [
  {
   "cell_type": "code",
   "execution_count": null,
   "id": "7e1bca43-5bb4-49ff-9873-d8db879c6ea9",
   "metadata": {},
   "outputs": [],
   "source": [
    "def get_conn_postgres():\n",
    "    import psycopg2\n",
    "    username = \"hkcloud\"\n",
    "    password = \"hkcloud1\"\n",
    "    host = \"localhost\"\n",
    "    port = 5432\n",
    "    database = \"palette\"\n",
    "    dsn = f'{host}:{port}/{database}'\n",
    "    encoding = 'UTF-8'\n",
    "\n",
    "    try:\n",
    "        connection = psycopg2.connect(host=host, database=database, user=username, password=password)\n",
    "    except Exception as ex:\n",
    "        print('Could not connect to database:', ex)\n",
    "        return ex\n",
    "\n",
    "    print(\"SUCCESS: Connecting database\")\n",
    "    return connection\n"
   ]
  },
  {
   "cell_type": "code",
   "execution_count": null,
   "id": "fe48bc39-c40a-4800-8146-1aadf9597760",
   "metadata": {},
   "outputs": [],
   "source": [
    "conn = get_conn_postgres()"
   ]
  },
  {
   "cell_type": "code",
   "execution_count": null,
   "id": "2197dc63-0583-49c9-9e17-5e4f6a41fd09",
   "metadata": {},
   "outputs": [],
   "source": [
    "def get_df(sql):\n",
    "    conn = get_conn_postgres()\n",
    "    import pandas as pd\n",
    "    with conn.cursor() as cursor:\n",
    "        cursor.execute(sql)\n",
    "        rows = cursor.fetchall()\n",
    "        cols = [x[0].lower() for x in cursor.description]\n",
    "        print(cols)\n",
    "        df = pd.DataFrame(rows, columns = cols)\n",
    "    #     for c in df.columns:\n",
    "    #         if df[c].dtype == object:\n",
    "    #             print(df[c])\n",
    "    #             df[c] = df[c].astype(\"string\")\n",
    "\n",
    "    #     print(df)\n",
    "        return df\n"
   ]
  },
  {
   "cell_type": "code",
   "execution_count": null,
   "id": "3e12e553-ce86-47e2-80e7-09fb9fd4e020",
   "metadata": {},
   "outputs": [],
   "source": [
    "query = f\"update {table} set ({cols}) VALUES ({ (',%s'*len(df.columns))[1:] })\" "
   ]
  },
  {
   "cell_type": "markdown",
   "id": "2cd90b1e-9c60-4d76-b31d-5e5f02c66eb4",
   "metadata": {},
   "source": [
    "### oracle"
   ]
  },
  {
   "cell_type": "code",
   "execution_count": 18,
   "id": "9c132428-ea5d-4d20-adb5-40c676cc6947",
   "metadata": {},
   "outputs": [],
   "source": [
    "import oracledb\n",
    "import pandas as pd\n",
    "def get_conn_ora():\n",
    "    \n",
    "    username = \"DPKMAPP\"\n",
    "    password = \"Kms12#$\"\n",
    "    host = \"61.106.19.217\"\n",
    "    port = 33389\n",
    "    database = \"CDB1\"\n",
    "    dsn = f'{host}:{port}/{database}'\n",
    "    encoding = 'UTF-8'\n",
    "\n",
    "\n",
    "    try:\n",
    "        connection = oracledb.connect(user=username, password=password, dsn=dsn)\n",
    "    except Exception as ex:\n",
    "        print('Could not connect to database:', ex)\n",
    "        return ex\n",
    "\n",
    "    print(\"SUCCESS: Connecting database succeeded\")\n",
    "    return connection\n",
    "\n",
    "def get_kms_datadf_ora(sql):\n",
    "    try:\n",
    "        connection = get_conn_ora()\n",
    "     \n",
    "        with connection.cursor() as cursor:\n",
    "            cursor.execute(sql)\n",
    "            rows = cursor.fetchall()\n",
    "            cols = [x[0].lower() for x in cursor.description]\n",
    "   \n",
    "        df = pd.DataFrame(rows, columns = cols)\n",
    "        for c in df.columns:\n",
    "            if df[c].dtype == object:\n",
    "                df[c] = df[c].astype(\"string\")\n",
    "\n",
    "        connection.close()\n",
    "\n",
    "    except Exception as ex:\n",
    "        err, = ex.args\n",
    "        print('error code :', err)\n",
    "#         print('error message :', err.message)\n",
    "        return None\n",
    "   \n",
    "    if len(df) ==0:\n",
    "        print('No data found')  \n",
    "        return None\n",
    "    return df"
   ]
  },
  {
   "cell_type": "code",
   "execution_count": 19,
   "id": "52430e2d-4807-4c9b-affd-ca80b4d9194a",
   "metadata": {},
   "outputs": [
    {
     "name": "stdout",
     "output_type": "stream",
     "text": [
      "SUCCESS: Connecting database succeeded\n"
     ]
    },
    {
     "data": {
      "text/html": [
       "<div>\n",
       "<style scoped>\n",
       "    .dataframe tbody tr th:only-of-type {\n",
       "        vertical-align: middle;\n",
       "    }\n",
       "\n",
       "    .dataframe tbody tr th {\n",
       "        vertical-align: top;\n",
       "    }\n",
       "\n",
       "    .dataframe thead th {\n",
       "        text-align: right;\n",
       "    }\n",
       "</style>\n",
       "<table border=\"1\" class=\"dataframe\">\n",
       "  <thead>\n",
       "    <tr style=\"text-align: right;\">\n",
       "      <th></th>\n",
       "      <th>room_id</th>\n",
       "      <th>room_seq</th>\n",
       "      <th>user_id</th>\n",
       "      <th>vtr_db_id</th>\n",
       "      <th>query_sentence</th>\n",
       "      <th>request_time</th>\n",
       "    </tr>\n",
       "  </thead>\n",
       "  <tbody>\n",
       "    <tr>\n",
       "      <th>0</th>\n",
       "      <td>20240731110029290348</td>\n",
       "      <td>0</td>\n",
       "      <td>&lt;NA&gt;</td>\n",
       "      <td>CW</td>\n",
       "      <td>GREENER쿠폰에 대해 설명해줘</td>\n",
       "      <td>2024-07-31 11:00:25.853050</td>\n",
       "    </tr>\n",
       "    <tr>\n",
       "      <th>1</th>\n",
       "      <td>20240731112918071664</td>\n",
       "      <td>0</td>\n",
       "      <td>&lt;NA&gt;</td>\n",
       "      <td>plt</td>\n",
       "      <td>딤담당 통화시 대응요령은?</td>\n",
       "      <td>2024-07-31 11:29:14.961153</td>\n",
       "    </tr>\n",
       "    <tr>\n",
       "      <th>2</th>\n",
       "      <td>20240731143109869752</td>\n",
       "      <td>0</td>\n",
       "      <td>&lt;NA&gt;</td>\n",
       "      <td>plt</td>\n",
       "      <td>야근교통비  지급기준은?</td>\n",
       "      <td>2024-07-31 14:31:07.432711</td>\n",
       "    </tr>\n",
       "    <tr>\n",
       "      <th>3</th>\n",
       "      <td>20240731143109869752</td>\n",
       "      <td>1</td>\n",
       "      <td>&lt;NA&gt;</td>\n",
       "      <td>plt</td>\n",
       "      <td>장기출장 주말 귀향시 지원항목</td>\n",
       "      <td>2024-07-31 14:31:53.277809</td>\n",
       "    </tr>\n",
       "    <tr>\n",
       "      <th>4</th>\n",
       "      <td>20240801092042854490</td>\n",
       "      <td>0</td>\n",
       "      <td>&lt;NA&gt;</td>\n",
       "      <td>plt</td>\n",
       "      <td>kms기능을 요약해줘</td>\n",
       "      <td>2024-08-01 09:20:33.580512</td>\n",
       "    </tr>\n",
       "    <tr>\n",
       "      <th>...</th>\n",
       "      <td>...</td>\n",
       "      <td>...</td>\n",
       "      <td>...</td>\n",
       "      <td>...</td>\n",
       "      <td>...</td>\n",
       "      <td>...</td>\n",
       "    </tr>\n",
       "    <tr>\n",
       "      <th>169</th>\n",
       "      <td>20240821145503</td>\n",
       "      <td>1</td>\n",
       "      <td>teleweb</td>\n",
       "      <td>CW</td>\n",
       "      <td>위블비즈 고개겐터</td>\n",
       "      <td>2024-08-21 14:55:03.000000</td>\n",
       "    </tr>\n",
       "    <tr>\n",
       "      <th>170</th>\n",
       "      <td>20240821145513</td>\n",
       "      <td>1</td>\n",
       "      <td>teleweb</td>\n",
       "      <td>CW</td>\n",
       "      <td>위블비즈 고개겐터에 대해 표로 정리해줘</td>\n",
       "      <td>2024-08-21 14:55:13.000000</td>\n",
       "    </tr>\n",
       "    <tr>\n",
       "      <th>171</th>\n",
       "      <td>20240821145924</td>\n",
       "      <td>1</td>\n",
       "      <td>teleweb</td>\n",
       "      <td>CW</td>\n",
       "      <td>위블비즈</td>\n",
       "      <td>2024-08-21 14:59:24.000000</td>\n",
       "    </tr>\n",
       "    <tr>\n",
       "      <th>172</th>\n",
       "      <td>20240821150541</td>\n",
       "      <td>1</td>\n",
       "      <td>teleweb</td>\n",
       "      <td>CC</td>\n",
       "      <td>ㅁㄴㅇ</td>\n",
       "      <td>2024-08-21 15:05:41.000000</td>\n",
       "    </tr>\n",
       "    <tr>\n",
       "      <th>173</th>\n",
       "      <td>20240821151532</td>\n",
       "      <td>1</td>\n",
       "      <td>teleweb</td>\n",
       "      <td>CA</td>\n",
       "      <td>ㅁㄴㅇ</td>\n",
       "      <td>2024-08-21 15:15:32.000000</td>\n",
       "    </tr>\n",
       "  </tbody>\n",
       "</table>\n",
       "<p>174 rows × 6 columns</p>\n",
       "</div>"
      ],
      "text/plain": [
       "                  room_id  room_seq  user_id vtr_db_id         query_sentence  \\\n",
       "0    20240731110029290348         0     <NA>        CW     GREENER쿠폰에 대해 설명해줘   \n",
       "1    20240731112918071664         0     <NA>       plt         딤담당 통화시 대응요령은?   \n",
       "2    20240731143109869752         0     <NA>       plt          야근교통비  지급기준은?   \n",
       "3    20240731143109869752         1     <NA>       plt       장기출장 주말 귀향시 지원항목   \n",
       "4    20240801092042854490         0     <NA>       plt            kms기능을 요약해줘   \n",
       "..                    ...       ...      ...       ...                    ...   \n",
       "169        20240821145503         1  teleweb        CW              위블비즈 고개겐터   \n",
       "170        20240821145513         1  teleweb        CW  위블비즈 고개겐터에 대해 표로 정리해줘   \n",
       "171        20240821145924         1  teleweb        CW                   위블비즈   \n",
       "172        20240821150541         1  teleweb        CC                    ㅁㄴㅇ   \n",
       "173        20240821151532         1  teleweb        CA                    ㅁㄴㅇ   \n",
       "\n",
       "                  request_time  \n",
       "0   2024-07-31 11:00:25.853050  \n",
       "1   2024-07-31 11:29:14.961153  \n",
       "2   2024-07-31 14:31:07.432711  \n",
       "3   2024-07-31 14:31:53.277809  \n",
       "4   2024-08-01 09:20:33.580512  \n",
       "..                         ...  \n",
       "169 2024-08-21 14:55:03.000000  \n",
       "170 2024-08-21 14:55:13.000000  \n",
       "171 2024-08-21 14:59:24.000000  \n",
       "172 2024-08-21 15:05:41.000000  \n",
       "173 2024-08-21 15:15:32.000000  \n",
       "\n",
       "[174 rows x 6 columns]"
      ]
     },
     "execution_count": 19,
     "metadata": {},
     "output_type": "execute_result"
    }
   ],
   "source": [
    "sql = 'select * from tbctrg02'\n",
    "df = get_kms_datadf_ora(sql)\n",
    "df"
   ]
  },
  {
   "cell_type": "code",
   "execution_count": null,
   "id": "77139f31-f136-4b13-ab68-f601bd97e9f3",
   "metadata": {},
   "outputs": [],
   "source": [
    "def insert_df_to_table(df, table, mode='insert', repl_cond=None):\n",
    "        \"\"\"\n",
    "        Using cursor.executemany() to insert the dataframe\n",
    "        \"\"\"\n",
    "        # Create a list of tupples from the dataframe values\n",
    "        tuples = list(set([tuple(x) for x in df.to_numpy()]))\n",
    "        # Comma-separated dataframe columns\n",
    "        cols = ','.join(list(df.columns))\n",
    "        table = table.upper()\n",
    "        cols = cols.upper()\n",
    "\n",
    "\n",
    "        query = f\"INSERT INTO {table} ({cols}) VALUES ({ (',%s'*len(df.columns))[1:] })\" \n",
    "        print('insert_df_to_table = ',query)\n",
    "        print('data = ',tuples)\n",
    "\n",
    "       # replace이면 기존 데이터 삭제\n",
    "        if mode=='replace':\n",
    "            del_sql = f\"\"\"delete from {table} where {repl_cond}\"\"\"\n",
    "            if repl_cond == None:\n",
    "                return False\n",
    "            \n",
    "        try:\n",
    "            conn = get_conn_dbms()\n",
    "            \n",
    "            with conn.cursor() as cur:\n",
    "                if mode=='replace':\n",
    "                    cur.execute(del_sql)\n",
    "                if len(df) > 0:\n",
    "                    cur.executemany(query, tuples)\n",
    "                conn.commit()\n",
    "\n",
    "            conn.close()\n",
    "\n",
    "        except (Exception) as error:\n",
    "            print(\"Error: %s\" % error)\n",
    "            conn.rollback()\n",
    "            conn.close()\n",
    "            return False    \n",
    "        return True"
   ]
  },
  {
   "cell_type": "code",
   "execution_count": null,
   "id": "de03bce6-5b27-480e-8e90-39912d4829e9",
   "metadata": {},
   "outputs": [],
   "source": [
    "import pandas as pd\n",
    "import datetime\n",
    "tt = datetime.datetime.now()\n",
    "# ROOM_ID,ROOM_SEQ,DOC_SEQ,CNTNT_KEY,TITLE,SECTION,PARAGRAPH,RESPONSE_TIME\n",
    "ll = ['202411',0,0,'52184>2>11','title','section','para',tt]\n",
    "df= pd.DataFrame(ll).T\n",
    "df.columns= ['ROOM_ID','ROOM_SEQ','DOC_SEQ','CNTNT_KEY','TITLE','SECTION','PARAGRAPH','IT_PROCESSING']\n",
    "tuples = list(set([tuple(x) for x in df.to_numpy()]))\n",
    "cols = ','.join(list(df.columns))\n",
    "table ='DPKMAPP.TBCTRG04'\n",
    "cols = cols.upper()\n",
    "query = f\"INSERT INTO {table} ({cols}) VALUES ({ (',%s'*len(df.columns))[1:] })\" \n",
    "query"
   ]
  },
  {
   "cell_type": "code",
   "execution_count": null,
   "id": "9544f879-1b2e-4b2e-89f4-649063490e92",
   "metadata": {},
   "outputs": [],
   "source": [
    "for i in range(len(df.columns)):\n",
    "    s = s+ ':' +str(i+1) + ',' \n",
    "query = f\"INSERT INTO {table} ({cols}) VALUES ( {s[:-1] })\"\n",
    "query"
   ]
  },
  {
   "cell_type": "code",
   "execution_count": null,
   "id": "2356ad42-ed1e-436f-b7fa-a7fc8e643d81",
   "metadata": {},
   "outputs": [],
   "source": [
    "conn = get_conn_ora()\n",
    "with conn.cursor() as cur:\n",
    "     cur.executemany(query, tuples)\n",
    "#     cur.executemany(query1, df.values.tolist())"
   ]
  },
  {
   "cell_type": "code",
   "execution_count": null,
   "id": "ee32e612-7d6b-4634-941a-d4b37acda2e2",
   "metadata": {},
   "outputs": [],
   "source": [
    "'''아래 예시는 templatepptx 임'''\n",
    "\n",
    "sql='select * from tbctrg05'\n",
    "df_comments = get_kms_datadf_ora(sql)\n",
    "# df_pr\n",
    "sql=f'''select a.room_id,a.room_seq\n",
    "                    ,a.vtr_db_id\n",
    "                    ,b.response_time - a.request_time  as res_time\n",
    "                    ,a.request_time, b.response_time\n",
    "                    ,a.query_sentence\n",
    "                    ,b.llm_response\n",
    "                    ,c.ans_relevancy\n",
    "                    ,c.ans_faithfulness \n",
    "                    ,c.cntxt_precision\n",
    "                    ,c.comments\n",
    "                FROM tbctrg02 a\n",
    "               INNER JOIN tbctrg03 b\n",
    "                  ON a.room_id  = b.room_id and a.room_seq = b.room_seq \n",
    "               LEFT OUTER JOIN tbctrg05 c\n",
    "                  ON c.eval_id = (SELECT max(eval_id)\n",
    "                                   FROM tbctrg05\n",
    "                                  WHERE room_id = a.room_id\n",
    "                                    AND  room_seq = a.room_seq)\n",
    "                order by request_time desc  \n",
    "    '''\n",
    "df_chat = get_kms_datadf_ora(sql)\n"
   ]
  },
  {
   "cell_type": "code",
   "execution_count": null,
   "id": "eec2ca32-4a17-4a0f-aa44-5693f69a8e32",
   "metadata": {},
   "outputs": [],
   "source": [
    "df_chat = df_chat.merge(df_comments[['room_id','room_seq','ans_relevancy','ans_faithfulness','cntxt_precision','comments']], how='left',on = ['room_id','room_seq'])\n",
    "df_chat['ans_relevancy'] = df_chat['ans_relevancy'].fillna(0).apply(lambda x: '☆'*int(x))\n",
    "df_chat['ans_faithfulness'] = df_chat['ans_faithfulness'].fillna(0).apply(lambda x: '☆'*int(x))\n",
    "df_chat['cntxt_precision'] = df_chat['cntxt_precision'].fillna(0).apply(lambda x: '☆'*int(x))\n",
    "df_chat['request_date'] = df_chat['request_time'].dt.date\n",
    "df_sum = df_chat.groupby(['request_date','vtr_db_id']).agg({'room_id':'count'}).unstack().fillna(0)\n",
    "df_sum = df_sum['room_id'].reset_index()"
   ]
  },
  {
   "cell_type": "markdown",
   "id": "0b2ff821-516f-4b09-9de7-b48ac9f731d6",
   "metadata": {},
   "source": [
    "#### template부분 종료"
   ]
  },
  {
   "cell_type": "code",
   "execution_count": null,
   "id": "744adcb3-0bff-4763-a6c4-159974eebadd",
   "metadata": {},
   "outputs": [],
   "source": [
    "from datetime import datetime\n",
    "from datetime import date\n",
    "\n",
    "today = datetime.now()\n",
    "today.strftime('%Y%m%d%H%M%S%f')"
   ]
  },
  {
   "cell_type": "code",
   "execution_count": null,
   "id": "4ac85670-d808-4341-8343-aa76cd012183",
   "metadata": {},
   "outputs": [],
   "source": [
    "dic = {}\n",
    "import datetime\n",
    "\n",
    "dt = datetime.datetime(2020,1,1)\n",
    "dic['name'] = '이순신1'\n",
    "dic['birth_date'] = '2020-1-1'\n",
    "dic['gender'] = '남'\n",
    "dic['education'] ='석사'\n",
    "dic['school_name'] ='명랑'\n",
    "dic['department_name']= '대찹'\n",
    "dic['graduate_date'] = '1597-4-1'\n",
    "dic['tech_grade']='특급'\n",
    "dic['kosa'] = 'an'\n",
    "print(type(dic))"
   ]
  },
  {
   "cell_type": "code",
   "execution_count": null,
   "id": "8e901a6b-790e-4062-b197-604f3ffcaf0f",
   "metadata": {},
   "outputs": [],
   "source": [
    "lst = [dic]\n",
    "lst.append(dic)\n",
    "print(len(lst))\n",
    "[ tuple(x.values()) for x in lst]\n"
   ]
  },
  {
   "cell_type": "code",
   "execution_count": null,
   "id": "97102ddd-3c73-41a5-bb1c-68c43201e447",
   "metadata": {},
   "outputs": [],
   "source": [
    "certi_id = [22,22]\n",
    "certi_name=['a','b']\n",
    "certi_date=[1,2]\n",
    "dic = {}\n",
    "dic['id'] = certi_id\n",
    "dic['certi_name'] = certi_name\n",
    "dic['certi_date'] = certi_date\n",
    "# dict(zip(certi_name,certi_date))\n",
    "# list(zip(tuple(dic.values())))\n",
    "li = list(zip(certi_id,certi_name,certi_date))"
   ]
  },
  {
   "cell_type": "code",
   "execution_count": null,
   "id": "274c045f-6a9a-44e2-b7bd-c3bedfc03003",
   "metadata": {},
   "outputs": [],
   "source": [
    "conn = get_conn_postgres()\n",
    "sql='select * from members.certificates '\n",
    "df = get_df(sql)\n",
    "df_ct = df"
   ]
  },
  {
   "cell_type": "code",
   "execution_count": null,
   "id": "b75bba97-ac13-4806-a4e4-50fb348dcff7",
   "metadata": {},
   "outputs": [],
   "source": [
    "def insert_to_table(schema, table, data, get_seq=None):\n",
    "    print(data)\n",
    "    cols = ','.join(list(data.keys()))\n",
    "    vals = str(tuple(data.values()))\n",
    "    if schema:\n",
    "        sql = f\"\"\"insert into {schema}.{table} (  {cols}  ) values  {vals}\"\"\"\n",
    "    else:\n",
    "        sql = f\"\"\"insert into {table} (  {cols}  ) values  {vals}\"\"\"\n",
    "\n",
    "    seq = 0\n",
    "    if get_seq:\n",
    "        seq_sql = f\"\"\"SELECT currval('{get_seq}')\"\"\"\n",
    "        print(seq_sql)\n",
    "        \n",
    "    try:\n",
    "        connection = get_conn_postgres()\n",
    "        connection.autocommit = True\n",
    "\n",
    "        with connection.cursor() as cursor:\n",
    "            cursor.execute(sql)\n",
    "#             cursor.execute(\"SELECT currval('members.profiles_id_seq')\")\n",
    "            if get_seq:\n",
    "                cursor.execute(seq_sql)\n",
    "                seq = cursor.fetchone()[0]\n",
    "        \n",
    "        connection.close()\n",
    "\n",
    "    except Exception as ex:\n",
    "        err, = ex.args\n",
    "#         print('error code :', err.code)\n",
    "        print('error message :', err.message)\n",
    "        return False\n",
    "   \n",
    "    return seq"
   ]
  },
  {
   "cell_type": "code",
   "execution_count": null,
   "id": "23756aa4-473b-40fe-a192-84034923ef30",
   "metadata": {},
   "outputs": [],
   "source": [
    "schema = 'members'\n",
    "table = 'profiles'\n",
    "insert_to_table(schema, table, data = dic, get_seq='members.profiles_id_seq' )"
   ]
  },
  {
   "cell_type": "code",
   "execution_count": null,
   "id": "aac5810a-6c57-4ec9-b732-97ecf981f448",
   "metadata": {},
   "outputs": [],
   "source": [
    "df = pd.read_excel('C:/Users/hkccloud01/Documents/이력서테스트1.xlsx')"
   ]
  },
  {
   "cell_type": "code",
   "execution_count": null,
   "id": "8dd90abd-8565-43d5-8763-df849b4d2e32",
   "metadata": {},
   "outputs": [],
   "source": [
    "connection = get_conn_postgres()\n",
    "df.to_sql(name='careers',schema='members',con=connection)"
   ]
  },
  {
   "cell_type": "code",
   "execution_count": null,
   "id": "b622e8fc-92bb-46a4-8f0d-ce53eb9c654d",
   "metadata": {},
   "outputs": [],
   "source": [
    "# id컬럼을 맨 앞에 추가\n",
    "df.insert(0,'id',19)\n",
    "df.columns = ['id','project_name','start_date','end_date','customer','role','job','environment','tech_stack','company','etc']"
   ]
  },
  {
   "cell_type": "code",
   "execution_count": null,
   "id": "09d42eb5-9703-4952-bfe3-66037f89085d",
   "metadata": {},
   "outputs": [],
   "source": [
    "from sqlalchemy import create_engine"
   ]
  },
  {
   "cell_type": "code",
   "execution_count": null,
   "id": "d242bf04-0060-4791-a9e0-668dd2f8eec2",
   "metadata": {},
   "outputs": [],
   "source": [
    "import psycopg2\n",
    "import pandas as pd\n",
    "\n",
    "def insertIntoTable(df, table):\n",
    "        \"\"\"\n",
    "        Using cursor.executemany() to insert the dataframe\n",
    "        \"\"\"\n",
    "        # Create a list of tupples from the dataframe values\n",
    "        tuples = list(set([tuple(x) for x in df.to_numpy()]))\n",
    "        print(tuples)\n",
    "        # Comma-separated dataframe columns\n",
    "        cols = ','.join(list(df.columns))\n",
    "        print(cols)\n",
    "        # SQL query to execute\n",
    "#         query = \"INSERT INTO %s(%s) VALUES(%%s,%%s,%%s,%%s)\" % (\n",
    "#             table, cols)\n",
    "        query = f\"INSERT INTO {table} ({cols}) VALUES ({ (',%s'*len(df.columns))[1:] })\" \n",
    "        print(query)\n",
    "    \n",
    "        try:\n",
    "            conn = get_conn_postgres()\n",
    "            with conn.cursor() as cur:    \n",
    "                cur.executemany(query, tuples)\n",
    "                conn.commit()\n",
    "                conn.close()\n",
    "\n",
    "        except (Exception, psycopg2.DatabaseError) as error:\n",
    "            print(\"Error: %s\" % error)\n",
    "            conn.rollback()\n",
    "            conn.close()\n",
    "            return False"
   ]
  },
  {
   "cell_type": "code",
   "execution_count": null,
   "id": "20982818-59b5-4874-b2ed-95b17965064e",
   "metadata": {},
   "outputs": [],
   "source": [
    "import requests\n",
    "import pandas as pd"
   ]
  },
  {
   "cell_type": "code",
   "execution_count": null,
   "id": "05435c4a-31be-46f5-8d5a-4751ddf8068b",
   "metadata": {},
   "outputs": [],
   "source": [
    "''' 4. retrieval '''\n",
    "\n",
    "code = 'CW'\n",
    "query = '보상쿠폰 지급기준에 대해 알려줘'\n",
    "url = f'http://hkcloudai.com:8018/api/v1_1/retrieve/retrieve/retrieval_non_streaming?code={code}&query={query}'\n",
    "res = requests.get(url)\n",
    "res_str = res.json()  ## dictionary로 넣어줄 필요가 있음\n",
    "res_str['llm_response'][0]"
   ]
  },
  {
   "cell_type": "code",
   "execution_count": null,
   "id": "27f15fa1-2762-4f24-9ed9-c56ef6e63d40",
   "metadata": {},
   "outputs": [],
   "source": [
    "res_str['retrieval_docs']"
   ]
  },
  {
   "cell_type": "code",
   "execution_count": null,
   "id": "19f26161-0af5-4cc8-a867-cb623ed2e266",
   "metadata": {},
   "outputs": [],
   "source": [
    "# res_str['llm_response']\n",
    "# res_str['retrieval_docs']\n",
    "docs_seq, key,  section,para =[], [], [], []\n",
    "for i,rel_doc in enumerate(res_str.get('retrieval_docs')): #'meta_data'\n",
    "#     print(rel_doc.get('doc'))\n",
    "    docs_seq.append(i)\n",
    "    key.append(rel_doc.get('metadata').get('primary_key'))\n",
    "    section.append(rel_doc.get('metadata').get('section'))\n",
    "    para.append(rel_doc.get('metadata').get('paragraph'))\n",
    "       \n",
    "df = pd.DataFrame([docs_seq, key, section, para]).transpose()\n",
    "df.columns=['docs_seq','key','section','paragraph']\n",
    "df.insert(0,'room_id','room')\n",
    "df.insert(1,'room_seq',1)\n",
    "df.insert(len(df.columns),'it_processing',2)\n",
    "df"
   ]
  },
  {
   "cell_type": "code",
   "execution_count": null,
   "id": "a57206cf-c202-4ec7-bbc8-62e26d0b464d",
   "metadata": {},
   "outputs": [],
   "source": [
    "dic02={}\n",
    "dic02['room_id']=['ss']\n",
    "dic02['room_seq']=[2]\n",
    "dic02['room_seq1']=[2]\n",
    "\n",
    "df02 = pd.DataFrame.from_dict(dic02)\n",
    "\n",
    "df02"
   ]
  },
  {
   "cell_type": "code",
   "execution_count": null,
   "id": "50d232fe-2a3f-413d-bed5-0e72209b21f7",
   "metadata": {},
   "outputs": [],
   "source": [
    "df"
   ]
  },
  {
   "cell_type": "markdown",
   "id": "5241b069-74df-4041-a827-975eb6df302f",
   "metadata": {},
   "source": [
    "### db조회"
   ]
  },
  {
   "cell_type": "code",
   "execution_count": null,
   "id": "a497ee43-4ca0-415d-bd9e-d8506db5fc5d",
   "metadata": {},
   "outputs": [],
   "source": [
    "from models import database as db"
   ]
  },
  {
   "cell_type": "code",
   "execution_count": null,
   "id": "f97397ff-10aa-4a4e-94e2-431277888488",
   "metadata": {},
   "outputs": [],
   "source": [
    "sql =  f\"\"\" select a.room_id,a.room_seq\n",
    "                    ,a.vtr_db_id\n",
    "                    ,b.response_time - a.request_time  as res_time\n",
    "                    ,a.request_time, b.response_time\n",
    "                    ,a.query_sentence\n",
    "                    ,b.llm_response\n",
    "                from aikms.tbctrg02 a, aikms.tbctrg03 b\n",
    "                where a.room_id  = b.room_id\n",
    "                and a.room_seq = b.room_seq \n",
    "                \"\"\"\n",
    "df = db.get_kms_datadf(sql)"
   ]
  },
  {
   "cell_type": "markdown",
   "id": "e5080278-2d9c-4672-859f-c89ff797d029",
   "metadata": {},
   "source": [
    "### 사용자 쿼리를 최적화하는 query tansformation\n",
    "#### 랭체인 rewrite\n",
    "https://jerry-ai.com/41 \\\n",
    "https://blog.langchain.dev/query-transformations \\\n",
    "https://github.com/langchain-ai/langchain/blob/master/cookbook/rewrite.ipynb?ref=blog.langchain.dev"
   ]
  },
  {
   "cell_type": "markdown",
   "id": "24c21dd2-7d30-453e-8885-bd2867a853e5",
   "metadata": {},
   "source": [
    "### 텍스트분석\n",
    "https://m.blog.naver.com/j7youngh/222861344172"
   ]
  },
  {
   "cell_type": "code",
   "execution_count": null,
   "id": "6907b524-280d-409a-a9c1-c0ff7c440439",
   "metadata": {},
   "outputs": [],
   "source": [
    "!pip install konlpy, eunjeon\n",
    "!pip install c:\\mecab\\mecab_python-0.996_ko_0.9.2_msvc-cp38-cp38-win_amd64.whl\n",
    "!pip install mecab-ko-dic-msvc,mecab-ko-msvc"
   ]
  },
  {
   "cell_type": "code",
   "execution_count": null,
   "id": "d87e6df8-685a-418a-81ac-c6e6441808c6",
   "metadata": {},
   "outputs": [],
   "source": [
    "import re\n",
    "\n",
    "def text_clean(text):\n",
    "    pattern = '([a-zA-Z0-9_.+-]+@[a-zA-Z0-9-]+\\.[a-zA-Z0-9-.]+)' # E-mail제거\n",
    "    text = re.sub(pattern, '', text)\n",
    "    pattern = '(http|ftp|https)://(?:[-\\w.]|(?:%[\\da-fA-F]{2}))+' # URL제거\n",
    "    text = re.sub(pattern, '', text)\n",
    "    pattern = '([ㄱ-ㅎㅏ-ㅣ]+)'  # 한글 자음, 모음 제거    \n",
    "    text = re.sub(pattern, '', text)\n",
    "    pattern = '([a-zA-Z0-9]+)'   # 알파벳, 숫자 제거  \n",
    "    text = re.sub(pattern, '', text)\n",
    "    pattern = '<[^>]*>'         # HTML 태그 제거\n",
    "    text = re.sub(pattern, '', text)\n",
    "    pattern = '[^\\w\\s]'         # 특수기호제거\n",
    "    text = re.sub(pattern, '', text)\n",
    "    return text"
   ]
  },
  {
   "cell_type": "markdown",
   "id": "23dcd121-69c6-425b-97b2-da90c7187012",
   "metadata": {},
   "source": [
    "#### konply라이브러리"
   ]
  },
  {
   "cell_type": "code",
   "execution_count": null,
   "id": "f35b0938-5afb-46b6-b32a-e8b159f5aad0",
   "metadata": {},
   "outputs": [],
   "source": [
    "txt = '국외출장비 지급기준에 대해 설명해 주세요'\n",
    "from konlpy.tag import Kkma\n",
    "kkma = Kkma()\n",
    "kkma.nouns(txt)"
   ]
  },
  {
   "cell_type": "code",
   "execution_count": null,
   "id": "edac2360-9fcd-4e18-a16d-79894fa1acce",
   "metadata": {},
   "outputs": [],
   "source": [
    "from konlpy.tag import Komoran\n",
    "komoran = Komoran()\n",
    "komoran.nouns(txt)"
   ]
  },
  {
   "cell_type": "code",
   "execution_count": null,
   "id": "5882e3e2-b165-4c92-bae8-e0030caf1d2b",
   "metadata": {},
   "outputs": [],
   "source": [
    "from eunjeon import Mecab\n",
    "mecab = Mecab()\n",
    "mecab.nouns(txt)"
   ]
  },
  {
   "cell_type": "code",
   "execution_count": null,
   "id": "191085d0-720a-475f-ab91-c58660a7e2f9",
   "metadata": {},
   "outputs": [],
   "source": [
    "from konlpy.tag import Okt\n",
    "okt = Okt()\n",
    "okt.nouns(txt)"
   ]
  },
  {
   "cell_type": "markdown",
   "id": "af78e98f-faed-49b0-b2e3-44eacc57c63b",
   "metadata": {},
   "source": [
    "#### konply.mecab"
   ]
  },
  {
   "cell_type": "code",
   "execution_count": null,
   "id": "1090aad5-1b7d-4d46-b5c5-9f0648037856",
   "metadata": {},
   "outputs": [],
   "source": [
    "# cleansing\n",
    "txt = df_chat['query_sentence'].str.cat(sep='\\n')\n",
    "corpus = text_clean(txt)\n",
    "corpus"
   ]
  },
  {
   "cell_type": "code",
   "execution_count": null,
   "id": "da145b6d-590a-4d21-8f43-329400bb9a83",
   "metadata": {},
   "outputs": [],
   "source": [
    "# from konlpy.tag import Mecab\n",
    "# from konlpy.tag import Hannanum, Komoran, Kkma, Okt, Mecab\n",
    "from eunjeon import Mecab"
   ]
  },
  {
   "cell_type": "code",
   "execution_count": null,
   "id": "f8922561-7473-4182-9284-2176a23861d2",
   "metadata": {},
   "outputs": [],
   "source": [
    "# mecab = Mecab(r'C:\\Users\\hkccloud01\\anaconda3\\Lib\\site-packages/mecab-ko-dic')\n",
    "mecab = Mecab()\n",
    "tokens = mecab.nouns(corpus)"
   ]
  },
  {
   "cell_type": "code",
   "execution_count": null,
   "id": "d2f71546-d80c-4720-b9d5-5fec5e415383",
   "metadata": {},
   "outputs": [],
   "source": [
    "from collections import Counter"
   ]
  },
  {
   "cell_type": "code",
   "execution_count": null,
   "id": "ebb5da9f-f5ea-454b-b447-22b0fb3bfcac",
   "metadata": {},
   "outputs": [],
   "source": [
    "nouns_counter = Counter(tokens)\n",
    "top_nouns = dict(nouns_counter.most_common(30))    # 딕셔너리 형태로 상위 30개 저장\n",
    "top_nouns"
   ]
  },
  {
   "cell_type": "code",
   "execution_count": null,
   "id": "47be6769-68f5-453c-aff9-af9d89d7f29d",
   "metadata": {},
   "outputs": [],
   "source": [
    "import matplotlib.pyplot as plt\n",
    "import matplotlib\n",
    "matplotlib.use('TkAgg')\n",
    "import matplotlib.font_manager as fm\n",
    "# matplotlib가 사용하는 폰트 경로 확인\n",
    "fontpath = 'c:/Windows/Fonts/NGULIM.TTF'\n",
    "# 폰트 경로를 전달해 폰트이름을 가져옴\n",
    "font_name = fm.FontProperties(fname=fontpath, size=10).get_name() \n",
    "# matplotlib가 사용할 글꼴을 나눔바른고딕으로 변경\n",
    "plt.rc('font', family=font_name)\n"
   ]
  },
  {
   "cell_type": "code",
   "execution_count": null,
   "id": "737b5146-cbb7-44d9-b24a-4a7eab89a793",
   "metadata": {},
   "outputs": [],
   "source": [
    "plt.figure(figsize=(12, 12))               # 이미지 사이즈를 설정하고 이미지 생성\n",
    "y_height = range(0, len(top_nouns))       # y축 높이 지정\n",
    "plt.barh(y_height, top_nouns.values())     # 수평막대 그리기\n",
    "plt.title(\"영화 헌트 리뷰 키워드 수\")      #  차트 제목 설정\n",
    "plt.yticks(y_height, top_nouns.keys())     #  y축 틱에 label 붙이기\n",
    "plt.show()"
   ]
  },
  {
   "cell_type": "code",
   "execution_count": null,
   "id": "35f3e838-0bc0-4654-92bd-770d6c97b31f",
   "metadata": {},
   "outputs": [],
   "source": [
    "!pip install wordcloud STOPWORDS"
   ]
  },
  {
   "cell_type": "code",
   "execution_count": null,
   "id": "092258d4-b58a-42b9-981e-ecd486195fe8",
   "metadata": {},
   "outputs": [],
   "source": [
    "# 워드 클라우드\n",
    "from wordcloud import WordCloud\n",
    "import stopwords\n",
    "import matplotlib.pyplot as plt\n",
    "\n",
    "# 배경색과 폰트지정\n",
    "wc= WordCloud(width = 3000, height = 2000, random_state=1, \n",
    "              background_color='white', colormap='Set2', \n",
    "              collocations=False, stopwords = stopwords,\n",
    "              font_path='c:/Windows/Fonts/NGULIM.TTF')\n",
    "\n",
    "# 워드클아우드 생성\n",
    "wc.generate_from_frequencies(nouns_counter)    # 빈도수가 구해진 전체 단어plt.\n",
    "\n",
    "# pyplot을 이용해 시각화\n",
    "plt.figure(figsize=(12, 12))\n",
    "plt.imshow(wc)\n",
    "plt.axis(\"off\")\n",
    "plt.show()"
   ]
  },
  {
   "cell_type": "markdown",
   "id": "8cfe9a39-19dc-4807-8807-e36f23934a86",
   "metadata": {},
   "source": [
    "#### krwordrank 라이브러리"
   ]
  },
  {
   "cell_type": "code",
   "execution_count": null,
   "id": "640b0b6e-bd2d-48ff-8f44-1d702604fc4f",
   "metadata": {},
   "outputs": [],
   "source": [
    "# !pip install krwordrank\n",
    "from krwordrank.word import KRWordRank\n",
    "min_count = 1   # 단어의 최소 출현 빈도수 (그래프 생성 시)\n",
    "max_length = 10 # 단어의 최대 길이\n",
    "wordrank_extractor = KRWordRank(min_count=min_count, max_length=max_length)\n"
   ]
  },
  {
   "cell_type": "code",
   "execution_count": null,
   "id": "15d40851-3f6d-4c0a-a67e-6d8a99366442",
   "metadata": {},
   "outputs": [],
   "source": [
    "beta = 0.85    # PageRank의 decaying factor beta\n",
    "max_iter = 10\n",
    "texts = ['운행 중 타이어 펑크 비용은 보상되나요?']\n",
    "keywords, rank, graph = wordrank_extractor.extract(texts, beta, max_iter)\n"
   ]
  },
  {
   "cell_type": "code",
   "execution_count": null,
   "id": "27212f16-3b79-4a44-b56a-f40008e0cc18",
   "metadata": {},
   "outputs": [],
   "source": [
    "for word, r in sorted(keywords.items(), key=lambda x:x[1], reverse=True)[:30]:\n",
    "        print('%8s:\\t%.4f' % (word, r))"
   ]
  },
  {
   "cell_type": "code",
   "execution_count": null,
   "id": "fa3d6061-e947-40e9-89d5-afd53729b779",
   "metadata": {},
   "outputs": [],
   "source": [
    "stopwords = {'영화', '관람객', '너무', '정말', '보고'}\n",
    "passwords = {word:score for word, score in sorted(\n",
    "    keywords.items(), key=lambda x:-x[1])[:300] if not (word in stopwords)}"
   ]
  },
  {
   "cell_type": "code",
   "execution_count": null,
   "id": "694be7c4-3da3-4756-8ecd-bf5eb6bb6832",
   "metadata": {},
   "outputs": [],
   "source": [
    "passwords"
   ]
  },
  {
   "cell_type": "code",
   "execution_count": null,
   "id": "fb7d565e-73ee-4388-a3cc-de8f6e3b9e09",
   "metadata": {},
   "outputs": [],
   "source": [
    "result_text = ''\n",
    "texts = f'''타이어 공기압 경고등이 켜질 때, 다음과 같은 조치를 취할 수 있습니다'''\n",
    "sentence_pos = okt.pos(texts, stem=True)\n",
    "nouns = [word for word, pos in sentence_pos if pos == 'Noun']\n",
    "result_text = ' '.join(nouns)\n",
    "noun_single_text_list = []\n",
    "noun_single_text_list.append(result_text)"
   ]
  },
  {
   "cell_type": "code",
   "execution_count": null,
   "id": "3ff67f1d-6273-4ae6-bfbf-14572ff59d91",
   "metadata": {},
   "outputs": [],
   "source": [
    "from krwordrank.word import KRWordRank\n",
    "min_count = 1   # 단어의 최소 출현 빈도수 (그래프 생성 시)\n",
    "max_length = 10 # 단어의 최대 길이\n",
    "wordrank_extractor = KRWordRank(min_count=min_count, max_length=max_length)\n",
    "beta = 0.85    # PageRank의 decaying factor beta\n",
    "max_iter = 20\n",
    "texts = noun_single_text_list\n",
    "keywords, rank, graph = wordrank_extractor.extract(texts, beta, max_iter)\n",
    "for word, r in sorted(keywords.items(), key=lambda x:x[1], reverse=True):\n",
    "        print('%8s:\\t%.4f' % (word, r))"
   ]
  },
  {
   "cell_type": "markdown",
   "id": "e48afc61-775b-44ab-b9a5-f50506e640bc",
   "metadata": {},
   "source": [
    "#### openai를 이용한 키워드 추출은 gpt/chatGPT-QA.ipynb 에 있음 : 위 방법보다는 품질 좋음"
   ]
  }
 ],
 "metadata": {
  "kernelspec": {
   "display_name": "Python 3",
   "language": "python",
   "name": "python3"
  },
  "language_info": {
   "codemirror_mode": {
    "name": "ipython",
    "version": 3
   },
   "file_extension": ".py",
   "mimetype": "text/x-python",
   "name": "python",
   "nbconvert_exporter": "python",
   "pygments_lexer": "ipython3",
   "version": "3.8.8"
  }
 },
 "nbformat": 4,
 "nbformat_minor": 5
}
